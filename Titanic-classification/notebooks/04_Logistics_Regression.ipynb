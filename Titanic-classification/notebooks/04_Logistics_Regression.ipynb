{
 "cells": [
  {
   "cell_type": "code",
   "execution_count": 2,
   "id": "76fbcb95-9838-4f72-ac3e-7f27cb7c2d99",
   "metadata": {},
   "outputs": [],
   "source": [
    "import os,pandas as pd, numpy as np, joblib\n",
    "from sklearn.model_selection import train_test_split\n",
    "from sklearn.pipeline import Pipeline\n",
    "from sklearn.compose import ColumnTransformer\n",
    "from sklearn.preprocessing import OneHotEncoder, StandardScaler\n",
    "from sklearn.impute import SimpleImputer\n",
    "from sklearn.linear_model import LogisticRegression\n",
    "from sklearn.metrics import accuracy_score, confusion_matrix, classification_report\n",
    "import matplotlib.pyplot as plt, json"
   ]
  },
  {
   "cell_type": "code",
   "execution_count": 3,
   "id": "f6be12d1-101b-4121-ae8a-144e44e61ca9",
   "metadata": {},
   "outputs": [],
   "source": [
    "Data_dir=\"../data\"\n",
    "Out_Models=\"../models\"\n",
    "Out_Reports=\"../reports\"\n",
    "Out_Output=\"../output\"\n",
    "\n",
    "for d in [Out_Models, Out_Reports, Out_Output]:\n",
    "    os.makedirs(d, exist_ok=True)"
   ]
  },
  {
   "cell_type": "code",
   "execution_count": 5,
   "id": "3507ab51-547d-4ab1-a32a-5ceda509d42d",
   "metadata": {},
   "outputs": [],
   "source": [
    "train_path= os.path.join(Data_dir, \"train.csv\")\n",
    "test_path= os.path.join(Data_dir, \"test.csv\")\n",
    "train=pd.read_csv(train_path)\n",
    "test=pd.read_csv(test_path)"
   ]
  },
  {
   "cell_type": "code",
   "execution_count": 6,
   "id": "6ec30cc1-c881-4ce4-902e-2ba164fd0ca1",
   "metadata": {},
   "outputs": [],
   "source": [
    "for df in (train,test):\n",
    "    df[\"FamilySize\"]= df[\"SibSp\"].fillna(0) + df[\"Parch\"].fillna(0) +1\n",
    "    df[\"IsAlone\"]=(df[\"FamilySize\"]==1).astype(int)\n",
    "    df[\"Pclass\"]=df.Pclass.astype(str)"
   ]
  },
  {
   "cell_type": "code",
   "execution_count": 7,
   "id": "f0f450f8-b10a-4e3a-8273-9182245eac71",
   "metadata": {},
   "outputs": [],
   "source": [
    "feature_cols=[\"Pclass\",\"Sex\",\"Age\", \"SibSp\", \"Parch\", \"Fare\", \"Embarked\", \"FamilySize\", \"IsAlone\"]\n",
    "num_cols=[\"Age\", \"SibSp\", \"Parch\", \"Fare\", \"FamilySize\", \"IsAlone\"]\n",
    "cat_cols=[\"Pclass\", \"Sex\", \"Embarked\"]"
   ]
  },
  {
   "cell_type": "code",
   "execution_count": 10,
   "id": "ce7ea273-ea26-4a9d-81f8-7c3531a2c7be",
   "metadata": {},
   "outputs": [],
   "source": [
    "X= train[feature_cols].copy()\n",
    "y= train.Survived.copy()\n",
    "X_test= test[feature_cols].copy()\n",
    "\n",
    "for df in (X,X_test):\n",
    "    for col in cat_cols:\n",
    "        df[col]= df[col].astype(str)"
   ]
  },
  {
   "cell_type": "code",
   "execution_count": 11,
   "id": "4a220fde-37b1-443f-b37d-57749bd72a29",
   "metadata": {},
   "outputs": [],
   "source": [
    "X_train, X_val, y_train, y_val= train_test_split(X,y, test_size=0.2, random_state=42, stratify=y)"
   ]
  },
  {
   "cell_type": "code",
   "execution_count": 12,
   "id": "c3cc8c6b-eba4-4f61-84ea-ef25bfd075e4",
   "metadata": {},
   "outputs": [],
   "source": [
    "ohe=OneHotEncoder(handle_unknown=\"ignore\", sparse_output=False)\n",
    "numeric_tf= Pipeline(steps=[\n",
    "    (\"impute\", SimpleImputer(strategy=\"median\")),\n",
    "    (\"scale\", StandardScaler())\n",
    "])\n",
    "\n",
    "categorical_tf= Pipeline(steps=[\n",
    "    (\"impute\", SimpleImputer(strategy=\"most_frequent\")),\n",
    "    (\"ohe\",ohe)\n",
    "])\n",
    "\n",
    "preprocessor= ColumnTransformer(transformers=[\n",
    "    (\"num\", numeric_tf, num_cols),\n",
    "    (\"cat\", categorical_tf, cat_cols)\n",
    "])"
   ]
  },
  {
   "cell_type": "code",
   "execution_count": 14,
   "id": "d36857ad-a5f4-4826-b7b1-fb84da104bfa",
   "metadata": {},
   "outputs": [],
   "source": [
    "log_reg= LogisticRegression(max_iter=1000, solver= \"lbfgs\")\n",
    "pipe= Pipeline([\n",
    "    (\"pre\", preprocessor),\n",
    "    (\"model\", log_reg)\n",
    "])\n",
    "\n",
    "pipe.fit(X_train,y_train)\n",
    "preds= pipe.predict(X_val)"
   ]
  },
  {
   "cell_type": "code",
   "execution_count": 15,
   "id": "d389543c-9653-43a0-b494-abfb79b7a33b",
   "metadata": {},
   "outputs": [
    {
     "name": "stdout",
     "output_type": "stream",
     "text": [
      "Validation Accuracy:  0.8156\n",
      "              precision    recall  f1-score   support\n",
      "\n",
      "           0      0.818     0.900     0.857       110\n",
      "           1      0.810     0.681     0.740        69\n",
      "\n",
      "    accuracy                          0.816       179\n",
      "   macro avg      0.814     0.791     0.799       179\n",
      "weighted avg      0.815     0.816     0.812       179\n",
      "\n"
     ]
    }
   ],
   "source": [
    "acc= accuracy_score(y_val,preds)\n",
    "cm= confusion_matrix(y_val,preds)\n",
    "cr= classification_report(y_val,preds,digits=3)\n",
    "\n",
    "print(f\"Validation Accuracy: {acc: .4f}\")\n",
    "print(cr)"
   ]
  },
  {
   "cell_type": "code",
   "execution_count": 17,
   "id": "f80dae51-272d-4377-a418-8d9e96a73337",
   "metadata": {},
   "outputs": [
    {
     "data": {
      "text/plain": [
       "['../models/titanic_logreg.joblib']"
      ]
     },
     "execution_count": 17,
     "metadata": {},
     "output_type": "execute_result"
    }
   ],
   "source": [
    "json.dump({\n",
    "    \"Val_accuracy\":float(acc)\n",
    "}, open(f\"{Out_Reports}/titanic_logreg_metrics.json\",\"w\"), indent=2)\n",
    "\n",
    "joblib.dump(pipe, f\"{Out_Models}/titanic_logreg.joblib\")\n"
   ]
  },
  {
   "cell_type": "code",
   "execution_count": 18,
   "id": "a90da7be-69e5-46cf-b03d-aa1f909f8775",
   "metadata": {},
   "outputs": [
    {
     "name": "stdout",
     "output_type": "stream",
     "text": [
      "\n",
      "Logistic Regression baseline done and saved\n"
     ]
    },
    {
     "data": {
      "image/png": "[encoded data removed]",
      "text/plain": [
       "<Figure size 640x480 with 1 Axes>"
      ]
     },
     "metadata": {},
     "output_type": "display_data"
    }
   ],
   "source": [
    "plt.imshow(cm);\n",
    "plt.title(\"Confusion Matrix\");\n",
    "plt.savefig(f\"{Out_Reports}/titanic_logreg_confmat.png\")\n",
    "print(\"\\nLogistic Regression baseline done and saved\")"
   ]
  }
 ],
 "metadata": {
  "kernelspec": {
   "display_name": "Python 3 (ipykernel)",
   "language": "python",
   "name": "python3"
  },
  "language_info": {
   "codemirror_mode": {
    "name": "ipython",
    "version": 3
   },
   "file_extension": ".py",
   "mimetype": "text/x-python",
   "name": "python",
   "nbconvert_exporter": "python",
   "pygments_lexer": "ipython3",
   "version": "3.13.5"
  }
 },
 "nbformat": 4,
 "nbformat_minor": 5
}
