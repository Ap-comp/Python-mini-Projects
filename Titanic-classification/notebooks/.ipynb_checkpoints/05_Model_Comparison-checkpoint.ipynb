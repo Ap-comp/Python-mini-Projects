{
 "cells": [
  {
   "cell_type": "code",
   "execution_count": 1,
   "id": "3b00efa5-aba3-4752-adb0-00fb57650278",
   "metadata": {},
   "outputs": [],
   "source": [
    "import os,pandas as pd, numpy as np, joblib\n",
    "from sklearn.model_selection import train_test_split\n",
    "from sklearn.pipeline import Pipeline\n",
    "from sklearn.compose import ColumnTransformer\n",
    "from sklearn.preprocessing import OneHotEncoder, StandardScaler\n",
    "from sklearn.impute import SimpleImputer\n",
    "from sklearn.linear_model import LogisticRegression\n",
    "from sklearn.metrics import accuracy_score, confusion_matrix, classification_report\n",
    "import matplotlib.pyplot as plt, json"
   ]
  },
  {
   "cell_type": "code",
   "execution_count": 2,
   "id": "f3dfbfd5-0d41-41bd-9aff-a428f04a6ea3",
   "metadata": {},
   "outputs": [],
   "source": [
    "Data_dir=\"../data\"\n",
    "Out_Models=\"../models\"\n",
    "Out_Reports=\"../reports\"\n",
    "Out_Output=\"../output\"\n",
    "\n",
    "for d in [Out_Models, Out_Reports, Out_Output]:\n",
    "    os.makedirs(d, exist_ok=True)"
   ]
  },
  {
   "cell_type": "code",
   "execution_count": 11,
   "id": "8e6ec8a9-4516-4b8c-b060-a49c1708831c",
   "metadata": {},
   "outputs": [],
   "source": [
    "rf_path= os.path.join(Out_Models, \"titanic_rf_best.joblib\")\n",
    "lr_path= os.path.join(Out_Models, \"titanic_logreg.joblib\")\n",
    "final_model_path= os.path.join(Out_Models, \"titanic_final_best.joblib\")\n",
    "summary_json= os.path.join(Out_Reports, \"titanic_model_comparison.json\")\n",
    "bar_png= os.path.join(Out_Reports, \"titanic_model_accuracy_bar.png\")\n",
    "cm_rf_png= os.path.join(Out_Reports, \"titanic_cm_rf.png\")\n",
    "cm_lr_png= os.path.join(Out_Reports, \"titanic_cm_lr.png\")\n",
    "submission_path = os.path.join(Out_Reports, \"titanic_final_submission.csv\")"
   ]
  },
  {
   "cell_type": "code",
   "execution_count": 5,
   "id": "38b52fd9-30d1-4cae-b347-987ba45ded7e",
   "metadata": {},
   "outputs": [],
   "source": [
    "train_path= os.path.join(Data_dir, \"train.csv\")\n",
    "test_path= os.path.join(Data_dir, \"test.csv\")\n",
    "train=pd.read_csv(train_path)\n",
    "test=pd.read_csv(test_path)"
   ]
  },
  {
   "cell_type": "code",
   "execution_count": 6,
   "id": "692664cc-a9db-46d4-a3b3-d6c8e7323f5b",
   "metadata": {},
   "outputs": [],
   "source": [
    "for df in (train,test):\n",
    "    df[\"FamilySize\"]= df[\"SibSp\"].fillna(0) + df[\"Parch\"].fillna(0) +1\n",
    "    df[\"IsAlone\"]=(df[\"FamilySize\"]==1).astype(int)\n",
    "    df[\"Pclass\"]=df.Pclass.astype(str)"
   ]
  },
  {
   "cell_type": "code",
   "execution_count": 7,
   "id": "8d16fb69-c8de-40f4-9e15-c7c442b8baed",
   "metadata": {},
   "outputs": [],
   "source": [
    "feature_cols=[\"Pclass\",\"Sex\",\"Age\", \"SibSp\", \"Parch\", \"Fare\", \"Embarked\", \"FamilySize\", \"IsAlone\"]\n",
    "num_cols=[\"Age\", \"SibSp\", \"Parch\", \"Fare\", \"FamilySize\", \"IsAlone\"]\n",
    "cat_cols=[\"Pclass\", \"Sex\", \"Embarked\"]"
   ]
  },
  {
   "cell_type": "code",
   "execution_count": 8,
   "id": "525dcc6d-1f6a-4c1f-8056-e4fa551d0bf3",
   "metadata": {},
   "outputs": [],
   "source": [
    "X= train[feature_cols].copy()\n",
    "y= train.Survived.copy()\n",
    "X_test= test[feature_cols].copy()\n",
    "\n",
    "for df in (X,X_test):\n",
    "    for col in cat_cols:\n",
    "        df[col]= df[col].astype(str)"
   ]
  },
  {
   "cell_type": "code",
   "execution_count": 9,
   "id": "d7f41192-cecb-40e7-85b6-a3b3145320d1",
   "metadata": {},
   "outputs": [],
   "source": [
    "X_train, X_val, y_train, y_val= train_test_split(X,y, test_size=0.2, random_state=42, stratify=y)"
   ]
  },
  {
   "cell_type": "code",
   "execution_count": 12,
   "id": "6d8a7022-c75d-4dd8-b1a2-fe20ef2be5e3",
   "metadata": {},
   "outputs": [],
   "source": [
    "assert os.path.exists(rf_path), f\"Missing model: {rf_path}\"\n",
    "assert os.path.exists(lr_path), f\"Missing model: {lr_path}\"\n",
    "\n",
    "rf_pipe= joblib.load(rf_path)\n",
    "lr_pipe= joblib.load(lr_path)"
   ]
  },
  {
   "cell_type": "code",
   "execution_count": 13,
   "id": "8db04575-2673-4218-8fa2-a09f3f06079f",
   "metadata": {},
   "outputs": [],
   "source": [
    "def eval_model(name,pipe,Xv,yv):\n",
    "    preds=pipe.predict(Xv)\n",
    "    acc= accuracy_score(yv,preds)\n",
    "    cm= confusion_matrix(yv,preds)\n",
    "    cr= classification_report(yv, preds, digits=3)\n",
    "    return acc,cm,cr,preds"
   ]
  },
  {
   "cell_type": "code",
   "execution_count": 14,
   "id": "1b97f4da-51ca-45b0-b0a6-a34f7d0bdccf",
   "metadata": {},
   "outputs": [],
   "source": [
    "rf_acc,rf_cm,rf_cr,_ = eval_model(\"RandomForest\", rf_pipe, X_val,y_val)\n",
    "lr_acc,lr_cm,lr_cr,_ = eval_model(\"LogisticRegression\", lr_pipe, X_val, y_val)"
   ]
  },
  {
   "cell_type": "code",
   "execution_count": 15,
   "id": "5b56a450-ace3-43c6-a38c-c887e78ace2d",
   "metadata": {},
   "outputs": [
    {
     "name": "stdout",
     "output_type": "stream",
     "text": [
      "Validation Accuracies:\n",
      " - RandomForest:       0.8101\n",
      " - LogisticRegression: 0.8156\n",
      "\n",
      "RF Classification Report:\n",
      "               precision    recall  f1-score   support\n",
      "\n",
      "           0      0.817     0.891     0.852       110\n",
      "           1      0.797     0.681     0.734        69\n",
      "\n",
      "    accuracy                          0.810       179\n",
      "   macro avg      0.807     0.786     0.793       179\n",
      "weighted avg      0.809     0.810     0.807       179\n",
      "\n",
      "LR Classification report:\n",
      "               precision    recall  f1-score   support\n",
      "\n",
      "           0      0.818     0.900     0.857       110\n",
      "           1      0.810     0.681     0.740        69\n",
      "\n",
      "    accuracy                          0.816       179\n",
      "   macro avg      0.814     0.791     0.799       179\n",
      "weighted avg      0.815     0.816     0.812       179\n",
      "\n"
     ]
    }
   ],
   "source": [
    "print(\"Validation Accuracies:\")\n",
    "print(f\" - RandomForest:       {rf_acc:.4f}\")\n",
    "print(f\" - LogisticRegression: {lr_acc:.4f}\\n\")\n",
    "\n",
    "print(\"RF Classification Report:\\n\",rf_cr)\n",
    "print(\"LR Classification report:\\n\",lr_cr)"
   ]
  },
  {
   "cell_type": "code",
   "execution_count": 16,
   "id": "3a1c3b0a-c9be-4a83-9fcb-fd9850a5be98",
   "metadata": {},
   "outputs": [],
   "source": [
    "def save_cm(cm, title, out_path):\n",
    "    plt.figure(figsize=(4,4))\n",
    "    plt.imshow(cm, interpolation=\"nearest\")\n",
    "    plt.title(title)\n",
    "    plt.xticks([0,1], [\"Pred 0\", \"Pred 1\"])\n",
    "    plt.yticks([0,1], [\"True 0\", \"True 1\"])\n",
    "    for (i,j), v in np.ndenumerate(cm):\n",
    "        plt.text(j,i,str(v), ha=\"center\", va= \"center\")\n",
    "    plt.tight_layout()\n",
    "    plt.savefig(out_path, dpi=150)\n",
    "    plt.close()"
   ]
  },
  {
   "cell_type": "code",
   "execution_count": 17,
   "id": "eb11059a-45e7-40ad-8663-c1ec6e76ea8c",
   "metadata": {},
   "outputs": [],
   "source": [
    "save_cm(rf_cm, \"Confusion Matrix - RandomForest (Val)\", cm_rf_png)\n",
    "save_cm(lr_cm, \"Confusion Matrix - LogisticRegression (Val)\", cm_lr_png)"
   ]
  },
  {
   "cell_type": "code",
   "execution_count": 18,
   "id": "7d3ea870-08df-41f4-bada-6f372afa3c36",
   "metadata": {},
   "outputs": [],
   "source": [
    "plt.figure(figsize=(5,4))\n",
    "models= [\"RandomForest\", \"LogReg\"]\n",
    "accs= [rf_acc, lr_acc]\n",
    "plt.bar(models,accs)\n",
    "plt.ylim(0,1)\n",
    "plt.title(\"Validation Accuracy by Model\")\n",
    "for i, v in enumerate(accs):\n",
    "    plt.text(i, v+0.01, f\"{v:.3f}\", ha=\"center\")\n",
    "plt.tight_layout()\n",
    "plt.savefig(bar_png, dpi=150)\n",
    "plt.close()"
   ]
  },
  {
   "cell_type": "code",
   "execution_count": 20,
   "id": "aa748e3c-cc13-43f0-b4a2-3ef8a8a8cf5e",
   "metadata": {},
   "outputs": [
    {
     "name": "stdout",
     "output_type": "stream",
     "text": [
      "\n",
      "Best model by validation accuracy: LogisticRegression\n"
     ]
    }
   ],
   "source": [
    "model_scores= {\"RandomForest\": rf_acc, \"LogisticRegression\": lr_acc}\n",
    "best_name= max(model_scores, key=model_scores.get)\n",
    "best_pipe_loaded = rf_pipe if best_name == \"RandomForest\" else lr_pipe\n",
    "\n",
    "print(f\"\\nBest model by validation accuracy: {best_name}\")"
   ]
  },
  {
   "cell_type": "code",
   "execution_count": 21,
   "id": "3b4c6f99-4512-41bc-804d-c305e40a1b26",
   "metadata": {},
   "outputs": [
    {
     "data": {
      "text/plain": [
       "['../models\\\\titanic_final_best.joblib']"
      ]
     },
     "execution_count": 21,
     "metadata": {},
     "output_type": "execute_result"
    }
   ],
   "source": [
    "best_pipe_loaded.fit(X,y)\n",
    "joblib.dump(best_pipe_loaded, final_model_path)"
   ]
  },
  {
   "cell_type": "code",
   "execution_count": 24,
   "id": "f7d6362f-be1b-4399-9d4b-a0a1cdcd4673",
   "metadata": {},
   "outputs": [],
   "source": [
    "assert \"PassengerId\" in test.columns, \"Test CSV must contain PassengerId\"\n",
    "test_preds= best_pipe_loaded.predict(X_test)\n",
    "submission= pd.DataFrame({\"PassengerId\": test.PassengerId, \"Survived\": test_preds})\n",
    "submission.to_csv(submission_path, index=False)"
   ]
  },
  {
   "cell_type": "code",
   "execution_count": 25,
   "id": "bebac907-90d3-418e-816c-bfc6d88211d5",
   "metadata": {},
   "outputs": [
    {
     "name": "stdout",
     "output_type": "stream",
     "text": [
      "\n",
      "Comparison complete.\n",
      "Saved:\n",
      " - ../reports\\titanic_model_comparison.json\n",
      " - ../reports\\titanic_model_accuracy_bar.png\n",
      " - ../reports\\titanic_cm_rf.png\n",
      " - ../reports\\titanic_cm_lr.png\n",
      " - ../models\\titanic_final_best.joblib\n",
      " - ../reports\\titanic_final_submission.csv\n"
     ]
    }
   ],
   "source": [
    "summary = {\n",
    "    \"rf_val_accuracy\": float(rf_acc),\n",
    "    \"lr_val_accuracy\": float(lr_acc),\n",
    "    \"best_model\": best_name,\n",
    "    \"artifacts\": {\n",
    "        \"final_model\": final_model_path,\n",
    "        \"submission_csv\": submission_path,\n",
    "        \"accuracy_bar_png\": bar_png,\n",
    "        \"rf_cm_png\": cm_rf_png,\n",
    "        \"lr_cm_png\": cm_lr_png\n",
    "    }\n",
    "}\n",
    "with open(summary_json, \"w\") as f:\n",
    "    json.dump(summary, f, indent=2)\n",
    "\n",
    "print(\"\\nComparison complete.\")\n",
    "print(\"Saved:\")\n",
    "print(\" -\", summary_json)\n",
    "print(\" -\", bar_png)\n",
    "print(\" -\", cm_rf_png)\n",
    "print(\" -\", cm_lr_png)\n",
    "print(\" -\", final_model_path)\n",
    "print(\" -\", submission_path)"
   ]
  }
 ],
 "metadata": {
  "kernelspec": {
   "display_name": "Python 3 (ipykernel)",
   "language": "python",
   "name": "python3"
  },
  "language_info": {
   "codemirror_mode": {
    "name": "ipython",
    "version": 3
   },
   "file_extension": ".py",
   "mimetype": "text/x-python",
   "name": "python",
   "nbconvert_exporter": "python",
   "pygments_lexer": "ipython3",
   "version": "3.13.5"
  }
 },
 "nbformat": 4,
 "nbformat_minor": 5
}
