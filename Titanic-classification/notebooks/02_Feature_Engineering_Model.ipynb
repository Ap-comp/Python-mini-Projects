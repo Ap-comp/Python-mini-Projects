{
 "cells": [
  {
   "cell_type": "code",
   "execution_count": 4,
   "id": "d4889997-71c9-402d-943e-42ab13beed3f",
   "metadata": {},
   "outputs": [],
   "source": [
    "import pandas as pd, numpy as np, os, json\n",
    "import matplotlib.pyplot as plt, joblib\n",
    "from sklearn.model_selection import train_test_split\n",
    "from sklearn.preprocessing import OneHotEncoder, StandardScaler\n",
    "from sklearn.compose import ColumnTransformer\n",
    "from sklearn.pipeline import Pipeline\n",
    "from sklearn.impute import SimpleImputer\n",
    "from sklearn.ensemble import RandomForestClassifier\n",
    "from sklearn.metrics import accuracy_score, confusion_matrix, classification_report"
   ]
  },
  {
   "cell_type": "code",
   "execution_count": 13,
   "id": "98dfa614-03cf-4cf5-bdec-1253b4da8f33",
   "metadata": {},
   "outputs": [],
   "source": [
    "Data_dir=\"../data\"\n",
    "Out_Models=\"../models\"\n",
    "Out_Reports=\"../reports\"\n",
    "Out_Output=\"../output\"\n",
    "\n",
    "for d in [Out_Models, Out_Reports, Out_Output]:\n",
    "    os.makedirs(d, exist_ok=True)\n"
   ]
  },
  {
   "cell_type": "code",
   "execution_count": 14,
   "id": "13a67af7-4410-47b6-b70b-1190687318d3",
   "metadata": {},
   "outputs": [],
   "source": [
    "train_path= os.path.join(Data_dir, \"train.csv\")\n",
    "test_path= os.path.join(Data_dir, \"test.csv\")\n",
    "\n",
    "assert os.path.exists(train_path), f\"Missing {train_path}\"\n",
    "assert os.path.exists(test_path), f\"Missing {test_path}\""
   ]
  },
  {
   "cell_type": "code",
   "execution_count": 15,
   "id": "4a073124-fb3b-4603-ab5f-6f098b123b29",
   "metadata": {},
   "outputs": [
    {
     "name": "stdout",
     "output_type": "stream",
     "text": [
      "Train shape:  (891, 12) | Test shape:  (418, 11)\n"
     ]
    }
   ],
   "source": [
    "train=pd.read_csv(train_path)\n",
    "test=pd.read_csv(test_path)\n",
    "\n",
    "print(\"Train shape: \", train.shape, \"| Test shape: \", test.shape)"
   ]
  },
  {
   "cell_type": "code",
   "execution_count": 17,
   "id": "7712bdbb-75f0-47be-8676-06e64504d156",
   "metadata": {},
   "outputs": [],
   "source": [
    "for df in (train,test):\n",
    "    df[\"FamilySize\"]= df[\"SibSp\"].fillna(0) + df[\"Parch\"].fillna(0) +1\n",
    "    df[\"IsAlone\"]=(df[\"FamilySize\"]==1).astype(int)\n",
    "\n",
    "for df in (train,test):\n",
    "    df[\"Pclass\"]=df.Pclass.astype(str)"
   ]
  },
  {
   "cell_type": "code",
   "execution_count": 18,
   "id": "46204228-5e3e-450b-a69b-7d46aef50dba",
   "metadata": {},
   "outputs": [],
   "source": [
    "feature_cols=[\"Pclass\",\"Sex\",\"Age\", \"SibSp\", \"Parch\", \"Fare\", \"Embarked\", \"FamilySize\", \"IsAlone\"]\n",
    "TARGET=\"Survived\"\n",
    "\n",
    "assert TARGET in train.columns, \"Train file must have 'Survived' column.\"\n",
    "assert \"PassengerId\" in test.columns, \"Test file must have 'PassengerId' column.\""
   ]
  },
  {
   "cell_type": "code",
   "execution_count": 19,
   "id": "7b01a8c8-d046-461e-9cf2-26732a15cac5",
   "metadata": {},
   "outputs": [],
   "source": [
    "X= train[feature_cols].copy()\n",
    "y= train[TARGET].copy()\n",
    "X_test= test[feature_cols].copy()\n",
    "\n",
    "for df in (X,X_test):\n",
    "    for col in [\"Pclass\", \"Sex\", \"Embarked\"]:\n",
    "        df[col]= df[col].astype(str)"
   ]
  },
  {
   "cell_type": "code",
   "execution_count": 20,
   "id": "fb50c5cf-f513-42e1-af1c-65c728b40fee",
   "metadata": {},
   "outputs": [],
   "source": [
    "X_train, X_val, y_train, y_val= train_test_split(X,y, test_size=0.2, random_state=42, stratify=y)"
   ]
  },
  {
   "cell_type": "code",
   "execution_count": 21,
   "id": "af72f8e6-f550-4ff8-981c-5bdfb8827680",
   "metadata": {},
   "outputs": [],
   "source": [
    "num_cols=[\"Age\", \"SibSp\", \"Parch\", \"Fare\", \"FamilySize\", \"IsAlone\"]\n",
    "cat_cols=[\"Pclass\", \"Sex\", \"Embarked\"]\n",
    "ohe=OneHotEncoder(handle_unknown=\"ignore\", sparse_output=False)"
   ]
  },
  {
   "cell_type": "code",
   "execution_count": 23,
   "id": "0e02800f-0e92-4970-84ee-7f26865b3b64",
   "metadata": {},
   "outputs": [],
   "source": [
    "numeric_tf= Pipeline(steps=[\n",
    "    (\"impute\", SimpleImputer(strategy=\"median\")),\n",
    "    (\"scale\", StandardScaler())\n",
    "])\n",
    "\n",
    "categorical_tf= Pipeline(steps=[\n",
    "    (\"impute\", SimpleImputer(strategy=\"most_frequent\")),\n",
    "    (\"ohe\",ohe)\n",
    "])\n",
    "\n",
    "preprocessor= ColumnTransformer(transformers=[\n",
    "    (\"num\", numeric_tf, num_cols),\n",
    "    (\"cat\", categorical_tf, cat_cols)\n",
    "])"
   ]
  },
  {
   "cell_type": "code",
   "execution_count": 24,
   "id": "d5328865-c548-41ae-8899-ba4e0406b7d5",
   "metadata": {},
   "outputs": [],
   "source": [
    "clf= RandomForestClassifier(\n",
    "    n_estimators=300,\n",
    "    max_depth=None,\n",
    "    min_samples_split=2,\n",
    "    random_state=42,\n",
    "    n_jobs=-1\n",
    ")\n",
    "\n",
    "model= Pipeline(steps=[\n",
    "    (\"pre\", preprocessor),\n",
    "    (\"clf\", clf)\n",
    "])"
   ]
  },
  {
   "cell_type": "code",
   "execution_count": 26,
   "id": "001145b3-0cb8-404a-a578-b5a0af2b49d8",
   "metadata": {},
   "outputs": [
    {
     "name": "stdout",
     "output_type": "stream",
     "text": [
      "\n",
      "Validation Accuracy: 0.8045\n",
      "\n",
      "Confusion Matrix:\n",
      " [[96 14]\n",
      " [21 48]]\n",
      "\n",
      "Classification Report:\n",
      "               precision    recall  f1-score   support\n",
      "\n",
      "           0      0.821     0.873     0.846       110\n",
      "           1      0.774     0.696     0.733        69\n",
      "\n",
      "    accuracy                          0.804       179\n",
      "   macro avg      0.797     0.784     0.789       179\n",
      "weighted avg      0.803     0.804     0.802       179\n",
      "\n"
     ]
    }
   ],
   "source": [
    "model.fit(X_train,y_train)\n",
    "val_preds=model.predict(X_val)\n",
    "\n",
    "acc= accuracy_score(y_val, val_preds)\n",
    "cm= confusion_matrix(y_val, val_preds)\n",
    "cr= classification_report(y_val, val_preds, digits=3)\n",
    "\n",
    "print(f\"\\nValidation Accuracy: {acc:.4f}\\n\")\n",
    "print(\"Confusion Matrix:\\n\", cm)\n",
    "print(\"\\nClassification Report:\\n\", cr)"
   ]
  },
  {
   "cell_type": "code",
   "execution_count": 28,
   "id": "7cac12ea-b6ff-4ce2-af17-94bbe455b5bd",
   "metadata": {},
   "outputs": [],
   "source": [
    "metrics_txt=os.path.join(Out_Reports, \"titanic_baseline_matrix.txt\")\n",
    "with open(metrics_txt, \"w\") as f:\n",
    "    f.write(f\"Validation Accuracy: {acc:.4f}\\n\\n\")\n",
    "    f.write(\"Confusion Matrix:\\n\")\n",
    "    f.write(np.array2string(cm))\n",
    "    f.write(\"\\n\\nClassification Report:\\n\")\n",
    "    f.write(cr)"
   ]
  },
  {
   "cell_type": "code",
   "execution_count": 30,
   "id": "1f74e84e-319e-45a5-aa39-8476042beaa4",
   "metadata": {},
   "outputs": [],
   "source": [
    "plt.figure(figsize=(4,4))\n",
    "plt.imshow(cm, interpolation=\"nearest\")\n",
    "plt.title(\"Confusion Matrix(Validation)\")\n",
    "plt.xticks([0,1], [\"Pred 0\", \"Pred 1\"])\n",
    "plt.yticks([0,1], [\"True 0\", \"True 1\"])\n",
    "for (i,j), v in np.ndenumerate(cm):\n",
    "    plt.text(j,i,str(v), ha=\"center\", va=\"center\")\n",
    "plt.tight_layout()\n",
    "cm_path=os.path.join(Out_Reports, \"titanic_confusion_matrix.png\")\n",
    "plt.savefig(cm_path,dpi=150)\n",
    "plt.close()"
   ]
  },
  {
   "cell_type": "code",
   "execution_count": 31,
   "id": "26fb030d-08ab-4f3c-b9f6-eece30cf73ab",
   "metadata": {},
   "outputs": [],
   "source": [
    "model.fit(X,y)\n",
    "test_preds=model.predict(X_test)\n",
    "submission = pd.DataFrame({\n",
    "    \"PassengerId\": test.PassengerId,\n",
    "    \"Survived\": test_preds\n",
    "})\n",
    "\n",
    "sub_path=os.path.join(Out_Output, \"titanic_baseline_submission.csv\")\n",
    "submission.to_csv(sub_path, index=False)"
   ]
  },
  {
   "cell_type": "code",
   "execution_count": 34,
   "id": "a69f73b1-21a1-4f9d-b314-818ad166c64c",
   "metadata": {},
   "outputs": [],
   "source": [
    "model_path= os.path.join(Out_Models, \"titanic_baseline_rf.joblib\")\n",
    "joblib.dump(model, model_path)\n",
    "\n",
    "config={\n",
    "    \"feature_cols\": feature_cols,\n",
    "    \"numeric_cols\": num_cols,\n",
    "    \"categorical_features\": cat_cols,\n",
    "    \"model\": \"RandomForestClassifier\",\n",
    "    \"params\": {\"n_estimator\":300, \"random_state\":42, \"n_jobs\":-1},\n",
    "    \"val_accuracy\":float(acc)\n",
    "}\n",
    "with open (os.path.join(Out_Reports, \"titanic_baseline_config.json\"),\"w\") as f:\n",
    "    json.dump(config, f, indent=2)"
   ]
  },
  {
   "cell_type": "code",
   "execution_count": 35,
   "id": "a11492e0-d456-4307-a869-433330d4f577",
   "metadata": {},
   "outputs": [
    {
     "name": "stdout",
     "output_type": "stream",
     "text": [
      "\n",
      " DONE — Baseline model trained & artifacts saved.\n",
      "Artifacts:\n",
      " - Model: ../models\\titanic_baseline_rf.joblib\n",
      " - Metrics: ../reports\\titanic_baseline_matrix.txt\n",
      " - Confusion matrix plot: ../reports\\titanic_confusion_matrix.png\n",
      " - Submission CSV: ../output\\titanic_baseline_submission.csv\n"
     ]
    }
   ],
   "source": [
    "print(\"\\n DONE — Baseline model trained & artifacts saved.\")\n",
    "print(\"Artifacts:\")\n",
    "print(\" - Model:\", model_path)\n",
    "print(\" - Metrics:\", metrics_txt)\n",
    "print(\" - Confusion matrix plot:\", cm_path)\n",
    "print(\" - Submission CSV:\", sub_path)"
   ]
  },
  {
   "cell_type": "code",
   "execution_count": null,
   "id": "86f69969-e902-40ab-af3c-c63cd2fba89e",
   "metadata": {},
   "outputs": [],
   "source": []
  }
 ],
 "metadata": {
  "kernelspec": {
   "display_name": "Python 3 (ipykernel)",
   "language": "python",
   "name": "python3"
  },
  "language_info": {
   "codemirror_mode": {
    "name": "ipython",
    "version": 3
   },
   "file_extension": ".py",
   "mimetype": "text/x-python",
   "name": "python",
   "nbconvert_exporter": "python",
   "pygments_lexer": "ipython3",
   "version": "3.13.5"
  }
 },
 "nbformat": 4,
 "nbformat_minor": 5
}
