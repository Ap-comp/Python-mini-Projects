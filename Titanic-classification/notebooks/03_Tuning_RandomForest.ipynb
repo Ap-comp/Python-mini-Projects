{
 "cells": [
  {
   "cell_type": "code",
   "execution_count": 16,
   "id": "c45f6c48-5bf3-4c62-9575-aa432662d85a",
   "metadata": {},
   "outputs": [],
   "source": [
    "import pandas as pd, numpy as np, os, json\n",
    "import matplotlib.pyplot as plt, joblib\n",
    "from sklearn.model_selection import train_test_split, GridSearchCV, StratifiedKFold\n",
    "from sklearn.preprocessing import OneHotEncoder, StandardScaler\n",
    "from sklearn.compose import ColumnTransformer\n",
    "from sklearn.pipeline import Pipeline\n",
    "from sklearn.impute import SimpleImputer\n",
    "from sklearn.ensemble import RandomForestClassifier\n",
    "from sklearn.metrics import accuracy_score, confusion_matrix, classification_report"
   ]
  },
  {
   "cell_type": "code",
   "execution_count": 2,
   "id": "b3964f5f-76bb-47bd-8aa2-124581d387f2",
   "metadata": {},
   "outputs": [],
   "source": [
    "Data_dir=\"../data\"\n",
    "Out_Models=\"../models\"\n",
    "Out_Reports=\"../reports\"\n",
    "Out_Output=\"../output\"\n",
    "\n",
    "for d in [Out_Models, Out_Reports, Out_Output]:\n",
    "    os.makedirs(d, exist_ok=True)"
   ]
  },
  {
   "cell_type": "code",
   "execution_count": 3,
   "id": "d63cd744-bc87-45b7-9392-4d69c2b763cf",
   "metadata": {},
   "outputs": [],
   "source": [
    "train_path= os.path.join(Data_dir, \"train.csv\")\n",
    "test_path= os.path.join(Data_dir, \"test.csv\")\n",
    "\n",
    "assert os.path.exists(train_path), f\"Missing {train_path}\"\n",
    "assert os.path.exists(test_path), f\"Missing {test_path}\""
   ]
  },
  {
   "cell_type": "code",
   "execution_count": 4,
   "id": "ea2dee14-6609-453e-8940-48f3347fb27a",
   "metadata": {},
   "outputs": [],
   "source": [
    "train=pd.read_csv(train_path)\n",
    "test=pd.read_csv(test_path)"
   ]
  },
  {
   "cell_type": "code",
   "execution_count": 5,
   "id": "1130ebfd-c55d-4190-b090-55b8c7149e97",
   "metadata": {},
   "outputs": [],
   "source": [
    "for df in (train,test):\n",
    "    df[\"FamilySize\"]= df[\"SibSp\"].fillna(0) + df[\"Parch\"].fillna(0) +1\n",
    "    df[\"IsAlone\"]=(df[\"FamilySize\"]==1).astype(int)\n",
    "    df[\"Pclass\"]=df.Pclass.astype(str)"
   ]
  },
  {
   "cell_type": "code",
   "execution_count": 6,
   "id": "2d6a805f-3ca2-4248-8905-0a5a4379b771",
   "metadata": {},
   "outputs": [],
   "source": [
    "feature_cols=[\"Pclass\",\"Sex\",\"Age\", \"SibSp\", \"Parch\", \"Fare\", \"Embarked\", \"FamilySize\", \"IsAlone\"]\n",
    "TARGET=\"Survived\""
   ]
  },
  {
   "cell_type": "code",
   "execution_count": 7,
   "id": "59ed4d2c-72fe-45e3-bbe4-84d1d991a2d1",
   "metadata": {},
   "outputs": [],
   "source": [
    "X= train[feature_cols].copy()\n",
    "y= train[TARGET].copy()\n",
    "X_test= test[feature_cols].copy()\n",
    "\n",
    "for df in (X,X_test):\n",
    "    for col in [\"Pclass\", \"Sex\", \"Embarked\"]:\n",
    "        df[col]= df[col].astype(str)"
   ]
  },
  {
   "cell_type": "code",
   "execution_count": 8,
   "id": "d72ce858-42a4-49aa-8bb4-a5864153a44a",
   "metadata": {},
   "outputs": [],
   "source": [
    "X_train, X_val, y_train, y_val= train_test_split(X,y, test_size=0.2, random_state=42, stratify=y)"
   ]
  },
  {
   "cell_type": "code",
   "execution_count": 9,
   "id": "b17c3e73-0d49-4689-9b62-0ce4a9c7c1cb",
   "metadata": {},
   "outputs": [],
   "source": [
    "num_cols=[\"Age\", \"SibSp\", \"Parch\", \"Fare\", \"FamilySize\", \"IsAlone\"]\n",
    "cat_cols=[\"Pclass\", \"Sex\", \"Embarked\"]\n",
    "ohe=OneHotEncoder(handle_unknown=\"ignore\", sparse_output=False)"
   ]
  },
  {
   "cell_type": "code",
   "execution_count": 10,
   "id": "fb528393-60a0-4cfc-a1b3-3bf420e43215",
   "metadata": {},
   "outputs": [],
   "source": [
    "numeric_tf= Pipeline(steps=[\n",
    "    (\"impute\", SimpleImputer(strategy=\"median\")),\n",
    "    (\"scale\", StandardScaler())\n",
    "])\n",
    "\n",
    "categorical_tf= Pipeline(steps=[\n",
    "    (\"impute\", SimpleImputer(strategy=\"most_frequent\")),\n",
    "    (\"ohe\",ohe)\n",
    "])\n",
    "\n",
    "preprocessor= ColumnTransformer(transformers=[\n",
    "    (\"num\", numeric_tf, num_cols),\n",
    "    (\"cat\", categorical_tf, cat_cols)\n",
    "])"
   ]
  },
  {
   "cell_type": "code",
   "execution_count": 12,
   "id": "fcc9f5b9-409d-4da2-8a19-9e6e22db8103",
   "metadata": {},
   "outputs": [],
   "source": [
    "base_rf= RandomForestClassifier(random_state=42, n_jobs=-1)\n",
    "\n",
    "pipe= Pipeline([\n",
    "    (\"pre\", preprocessor),\n",
    "    (\"clf\", base_rf)\n",
    "])"
   ]
  },
  {
   "cell_type": "code",
   "execution_count": 19,
   "id": "6dbaec3f-fbb8-4017-89e0-7b21e376818d",
   "metadata": {},
   "outputs": [],
   "source": [
    "param_grid={\n",
    "    \"clf__n_estimators\": [200,300,400],\n",
    "    \"clf__max_depth\": [None,6,8,10],\n",
    "    \"clf__min_samples_split\": [2,5,6],\n",
    "    \"clf__min_samples_leaf\": [1,2,4],\n",
    "    \"clf__max_features\": [\"sqrt\", \"log2\", None]\n",
    "}"
   ]
  },
  {
   "cell_type": "code",
   "execution_count": 20,
   "id": "e0af0056-0088-4ff6-adb5-58f3fe08dce1",
   "metadata": {},
   "outputs": [
    {
     "name": "stdout",
     "output_type": "stream",
     "text": [
      "Fitting 5 folds for each of 324 candidates, totalling 1620 fits\n",
      "\n",
      "Best CV Accuracy:  0.8328572835615089\n",
      "Best Params:\n",
      " {'clf__max_depth': 10, 'clf__max_features': None, 'clf__min_samples_leaf': 1, 'clf__min_samples_split': 5, 'clf__n_estimators': 200}\n"
     ]
    }
   ],
   "source": [
    "cv=StratifiedKFold(n_splits=5, shuffle=True, random_state=42)\n",
    "gs= GridSearchCV(\n",
    "    estimator=pipe,\n",
    "    param_grid=param_grid,\n",
    "    scoring=\"accuracy\",\n",
    "    cv=cv,\n",
    "    n_jobs=-1,\n",
    "    verbose=2\n",
    ")\n",
    "\n",
    "gs.fit(X_train, y_train)\n",
    "\n",
    "print(\"\\nBest CV Accuracy: \", gs.best_score_)\n",
    "print(\"Best Params:\\n\", gs.best_params_)"
   ]
  },
  {
   "cell_type": "code",
   "execution_count": 21,
   "id": "ab3ec5ea-0cce-4c68-aa16-722364628308",
   "metadata": {},
   "outputs": [
    {
     "name": "stdout",
     "output_type": "stream",
     "text": [
      "\n",
      "Validation Accuracy: 0.8100558659217877\n",
      "\n",
      "Classification Report:\n",
      "               precision    recall  f1-score   support\n",
      "\n",
      "           0      0.817     0.891     0.852       110\n",
      "           1      0.797     0.681     0.734        69\n",
      "\n",
      "    accuracy                          0.810       179\n",
      "   macro avg      0.807     0.786     0.793       179\n",
      "weighted avg      0.809     0.810     0.807       179\n",
      "\n"
     ]
    }
   ],
   "source": [
    "val_preds=gs.best_estimator_.predict(X_val)\n",
    "val_acc=accuracy_score(y_val, val_preds)\n",
    "cm=confusion_matrix(y_val, val_preds)\n",
    "cr= classification_report(y_val, val_preds, digits=3)\n",
    "\n",
    "print(\"\\nValidation Accuracy:\", val_acc)\n",
    "print(\"\\nClassification Report:\\n\", cr)"
   ]
  },
  {
   "cell_type": "code",
   "execution_count": 23,
   "id": "d646f631-deb9-469b-9716-88c303e468f9",
   "metadata": {},
   "outputs": [],
   "source": [
    "os.makedirs(Out_Reports, exist_ok=True)\n",
    "with open(os.path.join(Out_Reports, \"titanic_rf_tuning_results.json\"), \"w\") as f:\n",
    "    json.dump({\n",
    "        \"best_cv_accuracy\": float(gs.best_score_),\n",
    "        \"val_accuracy\": float(val_acc),\n",
    "        \"best_params\": gs.best_params_\n",
    "    },f, indent=2)"
   ]
  },
  {
   "cell_type": "code",
   "execution_count": 24,
   "id": "46129e64-1dd8-4830-83c1-df5ef0179cc2",
   "metadata": {},
   "outputs": [],
   "source": [
    "plt.figure(figsize=(4,4))\n",
    "plt.imshow(cm, interpolation=\"nearest\")\n",
    "plt.title(\"Confusion Matrix(Validation)\")\n",
    "plt.xticks([0,1], [\"Pred 0\", \"Pred 1\"])\n",
    "plt.yticks([0,1], [\"True 0\", \"True 1\"])\n",
    "for (i,j), v in np.ndenumerate(cm):\n",
    "    plt.text(j,i,str(v), ha=\"center\", va=\"center\")\n",
    "plt.tight_layout()\n",
    "cm_path=os.path.join(Out_Reports, \"titanic_rf_tuning_confusion.png\")\n",
    "plt.savefig(cm_path,dpi=150)\n",
    "plt.close()"
   ]
  },
  {
   "cell_type": "code",
   "execution_count": 25,
   "id": "17e7474f-981c-4af0-9bab-d68cc3df9f29",
   "metadata": {},
   "outputs": [
    {
     "data": {
      "text/plain": [
       "['../models\\\\titanic_rf_best.joblib']"
      ]
     },
     "execution_count": 25,
     "metadata": {},
     "output_type": "execute_result"
    }
   ],
   "source": [
    "best_model_path= os.path.join(Out_Models, \"titanic_rf_best.joblib\")\n",
    "joblib.dump(gs.best_estimator_,best_model_path)"
   ]
  },
  {
   "cell_type": "code",
   "execution_count": 28,
   "id": "b7095854-45ce-45b8-aa1d-45460071c4a6",
   "metadata": {},
   "outputs": [
    {
     "name": "stdout",
     "output_type": "stream",
     "text": [
      "\n",
      "Saved:\n",
      " - ../models\\titanic_rf_best.joblib\n",
      " - ../reports\\titanic_rf_tuning_confusion.png\n",
      " - ../reports\\titanic_rf_tuning_results.json\n",
      " - ../output\\titanic_rf_tuned_submission.csv\n"
     ]
    }
   ],
   "source": [
    "gs.best_estimator_.fit(X,y)\n",
    "test_preds= gs.best_estimator_.predict(X_test)\n",
    "assert \"PassengerId\" in test.columns, \"PassengerId missing in test.csv\"\n",
    "sub=pd.DataFrame({\"PassengerId\": test.PassengerId, \"Survived\": test_preds})\n",
    "sub_path= os.path.join(Out_Output,\"titanic_rf_tuned_submission.csv\")\n",
    "sub.to_csv(sub_path, index=False)\n",
    "\n",
    "print(\"\\nSaved:\")\n",
    "print(\" -\", best_model_path)\n",
    "print(\" -\", cm_path)\n",
    "print(\" -\", os.path.join(Out_Reports, \"titanic_rf_tuning_results.json\"))\n",
    "print(\" -\", sub_path)"
   ]
  }
 ],
 "metadata": {
  "kernelspec": {
   "display_name": "Python 3 (ipykernel)",
   "language": "python",
   "name": "python3"
  },
  "language_info": {
   "codemirror_mode": {
    "name": "ipython",
    "version": 3
   },
   "file_extension": ".py",
   "mimetype": "text/x-python",
   "name": "python",
   "nbconvert_exporter": "python",
   "pygments_lexer": "ipython3",
   "version": "3.13.5"
  }
 },
 "nbformat": 4,
 "nbformat_minor": 5
}
