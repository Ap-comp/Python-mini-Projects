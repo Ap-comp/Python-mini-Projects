{
 "cells": [
  {
   "cell_type": "code",
   "execution_count": 14,
   "id": "2601df9e-1b64-41f4-b6f4-bb7799bac41f",
   "metadata": {},
   "outputs": [
    {
     "data": {
      "text/html": [
       "<div>\n",
       "<style scoped>\n",
       "    .dataframe tbody tr th:only-of-type {\n",
       "        vertical-align: middle;\n",
       "    }\n",
       "\n",
       "    .dataframe tbody tr th {\n",
       "        vertical-align: top;\n",
       "    }\n",
       "\n",
       "    .dataframe thead th {\n",
       "        text-align: right;\n",
       "    }\n",
       "</style>\n",
       "<table border=\"1\" class=\"dataframe\">\n",
       "  <thead>\n",
       "    <tr style=\"text-align: right;\">\n",
       "      <th></th>\n",
       "      <th>name</th>\n",
       "      <th>age</th>\n",
       "      <th>City</th>\n",
       "    </tr>\n",
       "  </thead>\n",
       "  <tbody>\n",
       "    <tr>\n",
       "      <th>0</th>\n",
       "      <td>Ravi</td>\n",
       "      <td>24</td>\n",
       "      <td>Pune</td>\n",
       "    </tr>\n",
       "    <tr>\n",
       "      <th>1</th>\n",
       "      <td>Priya</td>\n",
       "      <td>32</td>\n",
       "      <td>Mumbai</td>\n",
       "    </tr>\n",
       "    <tr>\n",
       "      <th>2</th>\n",
       "      <td>Amit</td>\n",
       "      <td>29</td>\n",
       "      <td>Kolhapur</td>\n",
       "    </tr>\n",
       "    <tr>\n",
       "      <th>3</th>\n",
       "      <td>Neha</td>\n",
       "      <td>21</td>\n",
       "      <td>Sangli</td>\n",
       "    </tr>\n",
       "    <tr>\n",
       "      <th>4</th>\n",
       "      <td>Sanjay</td>\n",
       "      <td>35</td>\n",
       "      <td>Sambhajinagar</td>\n",
       "    </tr>\n",
       "  </tbody>\n",
       "</table>\n",
       "</div>"
      ],
      "text/plain": [
       "     name  age           City\n",
       "0    Ravi   24           Pune\n",
       "1   Priya   32         Mumbai\n",
       "2    Amit   29       Kolhapur\n",
       "3    Neha   21         Sangli\n",
       "4  Sanjay   35  Sambhajinagar"
      ]
     },
     "execution_count": 14,
     "metadata": {},
     "output_type": "execute_result"
    }
   ],
   "source": [
    "import pandas as pd\n",
    "import csv\n",
    "pd.read_csv(\"data.csv\")"
   ]
  },
  {
   "cell_type": "code",
   "execution_count": 15,
   "id": "3f1560d7-2ac3-48f5-be08-e2c7253e1a6d",
   "metadata": {},
   "outputs": [
    {
     "name": "stdout",
     "output_type": "stream",
     "text": [
      "     name  age           City\n",
      "1   Priya   32         Mumbai\n",
      "2    Amit   29       Kolhapur\n",
      "4  Sanjay   35  Sambhajinagar\n"
     ]
    }
   ],
   "source": [
    "df=pd.read_csv(\"data.csv\")\n",
    "filtered_df=df[df.age>25]\n",
    "print(filtered_df)"
   ]
  },
  {
   "cell_type": "code",
   "execution_count": 13,
   "id": "20ea9d8d-3c9e-47bd-83de-d4a85bb0ef3b",
   "metadata": {},
   "outputs": [
    {
     "data": {
      "text/html": [
       "<div>\n",
       "<style scoped>\n",
       "    .dataframe tbody tr th:only-of-type {\n",
       "        vertical-align: middle;\n",
       "    }\n",
       "\n",
       "    .dataframe tbody tr th {\n",
       "        vertical-align: top;\n",
       "    }\n",
       "\n",
       "    .dataframe thead th {\n",
       "        text-align: right;\n",
       "    }\n",
       "</style>\n",
       "<table border=\"1\" class=\"dataframe\">\n",
       "  <thead>\n",
       "    <tr style=\"text-align: right;\">\n",
       "      <th></th>\n",
       "      <th>name</th>\n",
       "      <th>age</th>\n",
       "      <th>City</th>\n",
       "    </tr>\n",
       "  </thead>\n",
       "  <tbody>\n",
       "    <tr>\n",
       "      <th>0</th>\n",
       "      <td>Ravi</td>\n",
       "      <td>24</td>\n",
       "      <td>Pune</td>\n",
       "    </tr>\n",
       "    <tr>\n",
       "      <th>1</th>\n",
       "      <td>Priya</td>\n",
       "      <td>32</td>\n",
       "      <td>Mumbai</td>\n",
       "    </tr>\n",
       "    <tr>\n",
       "      <th>2</th>\n",
       "      <td>Amit</td>\n",
       "      <td>29</td>\n",
       "      <td>Kolhapur</td>\n",
       "    </tr>\n",
       "    <tr>\n",
       "      <th>3</th>\n",
       "      <td>Neha</td>\n",
       "      <td>21</td>\n",
       "      <td>Sangli</td>\n",
       "    </tr>\n",
       "    <tr>\n",
       "      <th>4</th>\n",
       "      <td>Sanjay</td>\n",
       "      <td>35</td>\n",
       "      <td>Sambhajinagar</td>\n",
       "    </tr>\n",
       "  </tbody>\n",
       "</table>\n",
       "</div>"
      ],
      "text/plain": [
       "     name  age           City\n",
       "0    Ravi   24           Pune\n",
       "1   Priya   32         Mumbai\n",
       "2    Amit   29       Kolhapur\n",
       "3    Neha   21         Sangli\n",
       "4  Sanjay   35  Sambhajinagar"
      ]
     },
     "execution_count": 13,
     "metadata": {},
     "output_type": "execute_result"
    }
   ],
   "source": [
    "df=pd.read_csv(\"data.csv\")\n",
    "df[\"City\"]=[\"Pune\",\"Mumbai\",\"Kolhapur\",\"Sangli\",\"Sambhajinagar\"]\n",
    "df.to_csv(\"data.csv\",index=0)\n"
   ]
  },
  {
   "cell_type": "code",
   "execution_count": 27,
   "id": "29ab0e3a-1a5e-40bd-ae9e-112fa11ee567",
   "metadata": {},
   "outputs": [
    {
     "data": {
      "text/html": [
       "<div>\n",
       "<style scoped>\n",
       "    .dataframe tbody tr th:only-of-type {\n",
       "        vertical-align: middle;\n",
       "    }\n",
       "\n",
       "    .dataframe tbody tr th {\n",
       "        vertical-align: top;\n",
       "    }\n",
       "\n",
       "    .dataframe thead th {\n",
       "        text-align: right;\n",
       "    }\n",
       "</style>\n",
       "<table border=\"1\" class=\"dataframe\">\n",
       "  <thead>\n",
       "    <tr style=\"text-align: right;\">\n",
       "      <th></th>\n",
       "      <th>name</th>\n",
       "      <th>City</th>\n",
       "    </tr>\n",
       "  </thead>\n",
       "  <tbody>\n",
       "    <tr>\n",
       "      <th>1</th>\n",
       "      <td>Priya</td>\n",
       "      <td>Mumbai</td>\n",
       "    </tr>\n",
       "    <tr>\n",
       "      <th>2</th>\n",
       "      <td>Amit</td>\n",
       "      <td>Kolhapur</td>\n",
       "    </tr>\n",
       "    <tr>\n",
       "      <th>4</th>\n",
       "      <td>Sanjay</td>\n",
       "      <td>Sambhajinagar</td>\n",
       "    </tr>\n",
       "  </tbody>\n",
       "</table>\n",
       "</div>"
      ],
      "text/plain": [
       "     name           City\n",
       "1   Priya         Mumbai\n",
       "2    Amit       Kolhapur\n",
       "4  Sanjay  Sambhajinagar"
      ]
     },
     "execution_count": 27,
     "metadata": {},
     "output_type": "execute_result"
    }
   ],
   "source": [
    "df=pd.read_csv(\"data.csv\")\n",
    "filtered_df=df[df.age>25]\n",
    "\n",
    "filtered_subset =filtered_df.loc[:,['name','City']]\n",
    "filtered_subset "
   ]
  },
  {
   "cell_type": "code",
   "execution_count": 30,
   "id": "36259823-666e-4b39-9d3d-1c215c061a84",
   "metadata": {},
   "outputs": [
    {
     "data": {
      "text/html": [
       "<div>\n",
       "<style scoped>\n",
       "    .dataframe tbody tr th:only-of-type {\n",
       "        vertical-align: middle;\n",
       "    }\n",
       "\n",
       "    .dataframe tbody tr th {\n",
       "        vertical-align: top;\n",
       "    }\n",
       "\n",
       "    .dataframe thead th {\n",
       "        text-align: right;\n",
       "    }\n",
       "</style>\n",
       "<table border=\"1\" class=\"dataframe\">\n",
       "  <thead>\n",
       "    <tr style=\"text-align: right;\">\n",
       "      <th></th>\n",
       "      <th>name</th>\n",
       "      <th>age</th>\n",
       "      <th>City</th>\n",
       "      <th>age_group</th>\n",
       "    </tr>\n",
       "  </thead>\n",
       "  <tbody>\n",
       "    <tr>\n",
       "      <th>0</th>\n",
       "      <td>Ravi</td>\n",
       "      <td>24</td>\n",
       "      <td>Pune</td>\n",
       "      <td>Teen</td>\n",
       "    </tr>\n",
       "    <tr>\n",
       "      <th>1</th>\n",
       "      <td>Priya</td>\n",
       "      <td>32</td>\n",
       "      <td>Mumbai</td>\n",
       "      <td>Adult</td>\n",
       "    </tr>\n",
       "    <tr>\n",
       "      <th>2</th>\n",
       "      <td>Amit</td>\n",
       "      <td>29</td>\n",
       "      <td>Kolhapur</td>\n",
       "      <td>Adult</td>\n",
       "    </tr>\n",
       "    <tr>\n",
       "      <th>3</th>\n",
       "      <td>Neha</td>\n",
       "      <td>21</td>\n",
       "      <td>Sangli</td>\n",
       "      <td>Teen</td>\n",
       "    </tr>\n",
       "    <tr>\n",
       "      <th>4</th>\n",
       "      <td>Sanjay</td>\n",
       "      <td>35</td>\n",
       "      <td>Sambhajinagar</td>\n",
       "      <td>Adult</td>\n",
       "    </tr>\n",
       "  </tbody>\n",
       "</table>\n",
       "</div>"
      ],
      "text/plain": [
       "     name  age           City age_group\n",
       "0    Ravi   24           Pune      Teen\n",
       "1   Priya   32         Mumbai     Adult\n",
       "2    Amit   29       Kolhapur     Adult\n",
       "3    Neha   21         Sangli      Teen\n",
       "4  Sanjay   35  Sambhajinagar     Adult"
      ]
     },
     "execution_count": 30,
     "metadata": {},
     "output_type": "execute_result"
    }
   ],
   "source": [
    "df=pd.read_csv(\"data.csv\")\n",
    "df[\"age_group\"]=df.age.apply([lambda i:\"Senior\" if i>50 else \"Adult\" if i>25 else \"Teen\"])\n",
    "df.to_csv(\"data.csv\",index=0)\n",
    "df"
   ]
  },
  {
   "cell_type": "code",
   "execution_count": 31,
   "id": "765da570-b70e-4d66-a85c-c0b4bef03675",
   "metadata": {},
   "outputs": [],
   "source": [
    "df=pd.read_csv(\"data.csv\")\n",
    "df[\"age_group\"]=df.age.apply([lambda i:\"Senior\" if i>50 else \"Adult\" if i>25 else \"Teen\"])\n",
    "df.to_csv(\"filtered_output.csv\",index=0)"
   ]
  },
  {
   "cell_type": "code",
   "execution_count": 32,
   "id": "bae03923-8251-4c12-8a96-d52e1157b0a9",
   "metadata": {},
   "outputs": [],
   "source": [
    "%history -f Pandas_Mini_Practice.py\n"
   ]
  }
 ],
 "metadata": {
  "kernelspec": {
   "display_name": "Python 3 (ipykernel)",
   "language": "python",
   "name": "python3"
  },
  "language_info": {
   "codemirror_mode": {
    "name": "ipython",
    "version": 3
   },
   "file_extension": ".py",
   "mimetype": "text/x-python",
   "name": "python",
   "nbconvert_exporter": "python",
   "pygments_lexer": "ipython3",
   "version": "3.13.5"
  }
 },
 "nbformat": 4,
 "nbformat_minor": 5
}
