{
 "cells": [
  {
   "cell_type": "code",
   "execution_count": 10,
   "id": "f1ec10a3-dd66-4eaf-b270-3eb62a0238d0",
   "metadata": {},
   "outputs": [],
   "source": [
    "from sklearn.model_selection import train_test_split, RandomizedSearchCV\n",
    "from xgboost import XGBRegressor\n",
    "from sklearn.metrics import mean_squared_error\n",
    "import numpy as np,pandas as pd\n",
    "from sklearn.compose import ColumnTransformer, make_column_selector as selector\n",
    "from sklearn.pipeline import Pipeline\n",
    "from sklearn.preprocessing import OneHotEncoder, StandardScaler\n",
    "from sklearn.impute import SimpleImputer"
   ]
  },
  {
   "cell_type": "code",
   "execution_count": 8,
   "id": "382e4d71-f3b1-48ef-ac4d-b7bb6d812266",
   "metadata": {},
   "outputs": [],
   "source": [
    "train=pd.read_csv(\"../data/train.csv\")\n",
    "X=train.drop(columns=[\"SalePrice\",\"Id\"])\n",
    "y=np.log1p(train[\"SalePrice\"])"
   ]
  },
  {
   "cell_type": "code",
   "execution_count": 12,
   "id": "89f1a199-38b7-48e5-b1d4-501437232e22",
   "metadata": {},
   "outputs": [],
   "source": [
    "num_cols= selector(dtype_include=np.number)(X)\n",
    "cat_cols= selector(dtype_exclude=np.number)(X)"
   ]
  },
  {
   "cell_type": "code",
   "execution_count": 13,
   "id": "6dd27556-fd48-4c22-9187-67604d653111",
   "metadata": {},
   "outputs": [],
   "source": [
    "numeric_tf= Pipeline([\n",
    "    (\"imp\",SimpleImputer(strategy=\"median\")),\n",
    "    (\"scale\",StandardScaler())\n",
    "])\n",
    "categorical_tf= Pipeline([\n",
    "    (\"imp\", SimpleImputer(strategy=\"most_frequent\")),\n",
    "    (\"ohe\", OneHotEncoder(handle_unknown=\"ignore\",sparse_output=False))\n",
    "])"
   ]
  },
  {
   "cell_type": "code",
   "execution_count": 14,
   "id": "9643e8c2-4176-4e1f-a721-6be3204aec15",
   "metadata": {},
   "outputs": [],
   "source": [
    "preprocessor=ColumnTransformer([\n",
    "    (\"num\",numeric_tf,num_cols),\n",
    "    (\"cat\",categorical_tf,cat_cols)\n",
    "])"
   ]
  },
  {
   "cell_type": "code",
   "execution_count": 15,
   "id": "6789fbaf-6c83-4d39-bf5d-57dc92e6e3bc",
   "metadata": {},
   "outputs": [],
   "source": [
    "xgb=XGBRegressor(random_state=42, n_jobs=-1)\n",
    "pipe= Pipeline([\n",
    "    (\"pre\", preprocessor),\n",
    "    (\"model\",xgb)\n",
    "])"
   ]
  },
  {
   "cell_type": "code",
   "execution_count": 18,
   "id": "69c435b6-24f0-4740-9c12-7cf903707efa",
   "metadata": {},
   "outputs": [],
   "source": [
    "param_dist={\n",
    "    \"model__n_estimators\": [200,400,600,800],\n",
    "    \"model__max_depth\": [3,4,5,6,7],\n",
    "    \"model__learning_rate\": [0.01,0.05,0.1],\n",
    "    \"model__subsample\": [0.6,0.8,1.0],\n",
    "    \"model__colsample_bytree\": [0.6,0.8,1.0],\n",
    "    \"model__min_child_weight\": [1,3,5]\n",
    "}\n",
    "\n",
    "X_train,X_val,y_train,y_val= train_test_split(X,y,test_size=0.2,random_state=42)\n",
    "\n"
   ]
  },
  {
   "cell_type": "code",
   "execution_count": 21,
   "id": "3f84616f-8476-41fb-ac2a-ac73ba6e9ed8",
   "metadata": {},
   "outputs": [
    {
     "name": "stdout",
     "output_type": "stream",
     "text": [
      "Fitting 5 folds for each of 20 candidates, totalling 100 fits\n",
      "Validation RMSE: 0.1331\n",
      "Best Cross-Validation RMSE: 0.12492494873613373\n",
      "Best Params: {'model__subsample': 0.6, 'model__n_estimators': 400, 'model__min_child_weight': 1, 'model__max_depth': 4, 'model__learning_rate': 0.05, 'model__colsample_bytree': 0.8}\n"
     ]
    }
   ],
   "source": [
    "rs= RandomizedSearchCV(\n",
    "    estimator=pipe,\n",
    "    param_distributions=param_dist,\n",
    "    n_iter=20,\n",
    "    scoring=\"neg_root_mean_squared_error\",\n",
    "    cv=5,\n",
    "    verbose=1,\n",
    "    random_state=42,\n",
    "    n_jobs=-1\n",
    ")\n",
    "\n",
    "rs.fit(X_train,y_train)\n",
    "best_model=rs.best_estimator_\n",
    "val_preds= best_model.predict(X_val)\n",
    "rmse= np.sqrt(mean_squared_error(y_val, val_preds))\n",
    "print(f\"Validation RMSE: {rmse:.4f}\")\n",
    "print(\"Best Cross-Validation RMSE:\", -rs.best_score_)\n",
    "print(\"Best Params:\", rs.best_params_)"
   ]
  },
  {
   "cell_type": "code",
   "execution_count": 22,
   "id": "c62c4ecc-b8ec-42e8-b094-18147ffe4a82",
   "metadata": {},
   "outputs": [],
   "source": [
    "import joblib, json\n",
    "joblib.dump(rs.best_estimator_, \"../models/xgb_best.joblib\")\n",
    "with open(\"../reports/tuning_results.json\", \"w\") as f:\n",
    "    json.dump(rs.best_params_, f, indent=4)"
   ]
  }
 ],
 "metadata": {
  "kernelspec": {
   "display_name": "Python 3 (ipykernel)",
   "language": "python",
   "name": "python3"
  },
  "language_info": {
   "codemirror_mode": {
    "name": "ipython",
    "version": 3
   },
   "file_extension": ".py",
   "mimetype": "text/x-python",
   "name": "python",
   "nbconvert_exporter": "python",
   "pygments_lexer": "ipython3",
   "version": "3.13.5"
  }
 },
 "nbformat": 4,
 "nbformat_minor": 5
}
