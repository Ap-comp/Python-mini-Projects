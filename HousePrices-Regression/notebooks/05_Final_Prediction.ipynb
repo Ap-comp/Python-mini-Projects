{
 "cells": [
  {
   "cell_type": "code",
   "execution_count": 3,
   "id": "0d62a48a-a859-46ed-b107-5416973b40ec",
   "metadata": {},
   "outputs": [],
   "source": [
    "from sklearn.model_selection import train_test_split, RandomizedSearchCV\n",
    "from xgboost import XGBRegressor\n",
    "from sklearn.metrics import mean_squared_error\n",
    "import numpy as np, pandas as pd, joblib, json, os \n",
    "from sklearn.compose import ColumnTransformer, make_column_selector as selector\n",
    "from sklearn.pipeline import Pipeline\n",
    "from sklearn.preprocessing import OneHotEncoder, StandardScaler\n",
    "from sklearn.impute import SimpleImputer\n"
   ]
  },
  {
   "cell_type": "code",
   "execution_count": 2,
   "id": "285dbe20-991e-47f7-83ac-6324061c8f9f",
   "metadata": {},
   "outputs": [],
   "source": [
    "train=pd.read_csv(\"../data/train.csv\")\n",
    "X=train.drop(columns=[\"SalePrice\",\"Id\"])\n",
    "y=np.log1p(train[\"SalePrice\"])"
   ]
  },
  {
   "cell_type": "code",
   "execution_count": 4,
   "id": "9d691c9d-18bd-489f-aa60-de54e2e81f34",
   "metadata": {},
   "outputs": [],
   "source": [
    "test=pd.read_csv(\"../data/test.csv\")\n",
    "X_test=test.drop(columns=[\"Id\"])"
   ]
  },
  {
   "cell_type": "code",
   "execution_count": 5,
   "id": "db09314b-8f84-4c45-a6a9-d9ae55cbf659",
   "metadata": {},
   "outputs": [],
   "source": [
    "num_cols= selector(dtype_include=np.number)(X)\n",
    "cat_cols= selector(dtype_exclude=np.number)(X)"
   ]
  },
  {
   "cell_type": "code",
   "execution_count": 6,
   "id": "bc916c2d-4fef-4f8f-a899-b709f866d29e",
   "metadata": {},
   "outputs": [],
   "source": [
    "numeric_tf= Pipeline([\n",
    "    (\"imp\",SimpleImputer(strategy=\"median\")),\n",
    "    (\"scale\",StandardScaler())\n",
    "])\n",
    "categorical_tf= Pipeline([\n",
    "    (\"imp\", SimpleImputer(strategy=\"most_frequent\")),\n",
    "    (\"ohe\", OneHotEncoder(handle_unknown=\"ignore\",sparse_output=False))\n",
    "])"
   ]
  },
  {
   "cell_type": "code",
   "execution_count": 8,
   "id": "a65334a3-080f-4cdb-8945-2af0199e278b",
   "metadata": {},
   "outputs": [],
   "source": [
    "preprocessor=ColumnTransformer([\n",
    "    (\"num\",numeric_tf,num_cols),\n",
    "    (\"cat\",categorical_tf,cat_cols)\n",
    "])"
   ]
  },
  {
   "cell_type": "code",
   "execution_count": 9,
   "id": "5aaba238-f28e-4970-b5e3-d1d2d741ef1f",
   "metadata": {},
   "outputs": [
    {
     "name": "stdout",
     "output_type": "stream",
     "text": [
      "Model Training complete on full data\n"
     ]
    }
   ],
   "source": [
    "best_params={\n",
    "    \"n_estimators\": 600,\n",
    "    \"max_depth\": 5,\n",
    "    \"learning_rate\": 0.05,\n",
    "    \"subsample\": 0.8,\n",
    "    \"colsample_bytree\": 0.8,\n",
    "    \"min_child_weight\": 3\n",
    "}\n",
    "pipe= Pipeline([\n",
    "    (\"pre\", preprocessor),\n",
    "    (\"model\",XGBRegressor(random_state=42, n_jobs=-1, **best_params))\n",
    "])\n",
    "\n",
    "pipe.fit(X,y)\n",
    "print(\"Model Training complete on full data\")"
   ]
  },
  {
   "cell_type": "code",
   "execution_count": 11,
   "id": "847079f3-8ae1-4e03-9295-6b0f74958444",
   "metadata": {},
   "outputs": [
    {
     "name": "stdout",
     "output_type": "stream",
     "text": [
      "submnission.csv created successfully in 'output/' folder! \n",
      "     Id      SalePrice\n",
      "0  1461  125958.687500\n",
      "1  1462  152936.140625\n",
      "2  1463  188810.109375\n",
      "3  1464  195431.625000\n",
      "4  1465  185454.531250\n"
     ]
    }
   ],
   "source": [
    "test_preds_log = pipe.predict(X_test)\n",
    "test_preds=np.expm1(test_preds_log)  #reverse of log1p\n",
    "\n",
    "submission = pd.DataFrame({\n",
    "    \"Id\": test.Id,\n",
    "    \"SalePrice\": test_preds\n",
    "})\n",
    "\n",
    "os.makedirs(\"../output\", exist_ok=True)\n",
    "submission.to_csv(\"../output/submission.csv\", index=False)\n",
    "\n",
    "print(\"submnission.csv created successfully in 'output/' folder! \")\n",
    "print(submission.head())"
   ]
  },
  {
   "cell_type": "code",
   "execution_count": 12,
   "id": "5e39cd9b-d00c-458b-aee2-970bc96e831d",
   "metadata": {},
   "outputs": [
    {
     "name": "stdout",
     "output_type": "stream",
     "text": [
      "Model and parameters saved successfully.\n"
     ]
    }
   ],
   "source": [
    "os.makedirs(\"../models\", exist_ok=True)\n",
    "joblib.dump(pipe, \"../models/xgb_final_model.joblib\")\n",
    "\n",
    "os.makedirs(\"../reports\", exist_ok=True)\n",
    "with open(\"../reports/best_params.json\", \"w\") as f:\n",
    "    json.dump(best_params, f, indent=4)\n",
    "\n",
    "print(\"Model and parameters saved successfully.\")"
   ]
  },
  {
   "cell_type": "code",
   "execution_count": 13,
   "id": "f18cd38c-5a02-4e47-86be-f48a03f0f7be",
   "metadata": {},
   "outputs": [
    {
     "name": "stdout",
     "output_type": "stream",
     "text": [
      "Submission file shape: (1459, 2)\n",
      "Any nulls? 0\n",
      "Predictions range: 43637.28125 - 569053.1875\n"
     ]
    }
   ],
   "source": [
    "print(\"Submission file shape:\", submission.shape)\n",
    "print(\"Any nulls?\", submission.isnull().sum().sum())\n",
    "print(\"Predictions range:\", submission[\"SalePrice\"].min(), \"-\", submission[\"SalePrice\"].max())"
   ]
  }
 ],
 "metadata": {
  "kernelspec": {
   "display_name": "Python 3 (ipykernel)",
   "language": "python",
   "name": "python3"
  },
  "language_info": {
   "codemirror_mode": {
    "name": "ipython",
    "version": 3
   },
   "file_extension": ".py",
   "mimetype": "text/x-python",
   "name": "python",
   "nbconvert_exporter": "python",
   "pygments_lexer": "ipython3",
   "version": "3.13.5"
  }
 },
 "nbformat": 4,
 "nbformat_minor": 5
}
